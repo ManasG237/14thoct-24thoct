{
 "cells": [
  {
   "cell_type": "code",
   "execution_count": 24,
   "id": "f6f6fb49-ab01-4852-96b2-50b947562e4c",
   "metadata": {},
   "outputs": [],
   "source": [
    "import numpy as np\n",
    "import pandas as pd\n",
    "import matplotlib.pyplot as plt\n",
    "import statsmodels.formula.api as smf\n",
    "import statsmodels.api as sm\n",
    "from statsmodels.genmod import families\n",
    "import seaborn as sns"
   ]
  },
  {
   "cell_type": "code",
   "execution_count": 2,
   "id": "e8617f4e-71d7-4a85-ae2b-e07f23a28805",
   "metadata": {},
   "outputs": [],
   "source": [
    "plt.rcParams[\"figure.figsize\"] = (12,8)"
   ]
  },
  {
   "cell_type": "code",
   "execution_count": 3,
   "id": "436b7ea3-b90b-47f8-95f2-b00b2499ce05",
   "metadata": {},
   "outputs": [
    {
     "data": {
      "text/html": [
       "<div>\n",
       "<style scoped>\n",
       "    .dataframe tbody tr th:only-of-type {\n",
       "        vertical-align: middle;\n",
       "    }\n",
       "\n",
       "    .dataframe tbody tr th {\n",
       "        vertical-align: top;\n",
       "    }\n",
       "\n",
       "    .dataframe thead th {\n",
       "        text-align: right;\n",
       "    }\n",
       "</style>\n",
       "<table border=\"1\" class=\"dataframe\">\n",
       "  <thead>\n",
       "    <tr style=\"text-align: right;\">\n",
       "      <th></th>\n",
       "      <th>S</th>\n",
       "      <th>LPE</th>\n",
       "      <th>NP</th>\n",
       "      <th>ANH</th>\n",
       "      <th>TIC</th>\n",
       "      <th>Newborn</th>\n",
       "      <th>left</th>\n",
       "    </tr>\n",
       "  </thead>\n",
       "  <tbody>\n",
       "    <tr>\n",
       "      <th>0</th>\n",
       "      <td>0.38</td>\n",
       "      <td>0.53</td>\n",
       "      <td>2</td>\n",
       "      <td>157</td>\n",
       "      <td>3</td>\n",
       "      <td>0</td>\n",
       "      <td>1</td>\n",
       "    </tr>\n",
       "    <tr>\n",
       "      <th>1</th>\n",
       "      <td>0.80</td>\n",
       "      <td>0.86</td>\n",
       "      <td>5</td>\n",
       "      <td>262</td>\n",
       "      <td>6</td>\n",
       "      <td>0</td>\n",
       "      <td>1</td>\n",
       "    </tr>\n",
       "    <tr>\n",
       "      <th>2</th>\n",
       "      <td>0.11</td>\n",
       "      <td>0.88</td>\n",
       "      <td>7</td>\n",
       "      <td>272</td>\n",
       "      <td>4</td>\n",
       "      <td>0</td>\n",
       "      <td>1</td>\n",
       "    </tr>\n",
       "    <tr>\n",
       "      <th>3</th>\n",
       "      <td>0.72</td>\n",
       "      <td>0.87</td>\n",
       "      <td>5</td>\n",
       "      <td>223</td>\n",
       "      <td>5</td>\n",
       "      <td>0</td>\n",
       "      <td>1</td>\n",
       "    </tr>\n",
       "    <tr>\n",
       "      <th>4</th>\n",
       "      <td>0.37</td>\n",
       "      <td>0.52</td>\n",
       "      <td>2</td>\n",
       "      <td>159</td>\n",
       "      <td>3</td>\n",
       "      <td>0</td>\n",
       "      <td>1</td>\n",
       "    </tr>\n",
       "  </tbody>\n",
       "</table>\n",
       "</div>"
      ],
      "text/plain": [
       "     S  LPE  NP  ANH  TIC  Newborn  left\n",
       "0 0.38 0.53   2  157    3        0     1\n",
       "1 0.80 0.86   5  262    6        0     1\n",
       "2 0.11 0.88   7  272    4        0     1\n",
       "3 0.72 0.87   5  223    5        0     1\n",
       "4 0.37 0.52   2  159    3        0     1"
      ]
     },
     "execution_count": 3,
     "metadata": {},
     "output_type": "execute_result"
    }
   ],
   "source": [
    "df = pd.read_csv('../Datasets/DATA_3.02_HR2.csv')\n",
    "df.head()"
   ]
  },
  {
   "cell_type": "markdown",
   "id": "e1e66a6d-fefb-40c0-9d21-26f514ec7481",
   "metadata": {},
   "source": [
    "As a reminder, our goal is to understand what distinguishes employees who stay in the company and those who leave the company.  \n",
    "\n",
    "To do so we're going to explore a data set very similar to the one we had in week1. However, this time, we've added more employees, and more importantly, we've added an outcome variable which tells us if the employee indeed left or not."
   ]
  },
  {
   "cell_type": "code",
   "execution_count": 4,
   "id": "c8240351-5971-4327-a318-c4a89acc473d",
   "metadata": {},
   "outputs": [
    {
     "name": "stdout",
     "output_type": "stream",
     "text": [
      "<class 'pandas.core.frame.DataFrame'>\n",
      "RangeIndex: 12000 entries, 0 to 11999\n",
      "Data columns (total 7 columns):\n",
      " #   Column   Non-Null Count  Dtype  \n",
      "---  ------   --------------  -----  \n",
      " 0   S        12000 non-null  float64\n",
      " 1   LPE      12000 non-null  float64\n",
      " 2   NP       12000 non-null  int64  \n",
      " 3   ANH      12000 non-null  int64  \n",
      " 4   TIC      12000 non-null  int64  \n",
      " 5   Newborn  12000 non-null  int64  \n",
      " 6   left     12000 non-null  int64  \n",
      "dtypes: float64(2), int64(5)\n",
      "memory usage: 656.4 KB\n"
     ]
    }
   ],
   "source": [
    "df.info()"
   ]
  },
  {
   "cell_type": "markdown",
   "id": "459f579c-1d6d-4013-b74e-86c9ba738458",
   "metadata": {},
   "source": [
    "This time we have 12000 employees and the abbreviations associated with the variables stand for:\n",
    "1. 'S': satisfaction, \n",
    "2. 'LPE': last project evaluation\n",
    "3. 'NP': number of projects worked on by the employee in the last 12 months\n",
    "4. 'ANH': the average numbers of hours worked weekly by the employee over the last 12 months\n",
    "5. 'TIC': time spent in the company\n",
    "6. the newborn variable which tells us whether or not the employee had a newborn within the last 12 month\n",
    "7. and finally, our outcome variable which is called left. Which will take the value one if the employee indeed left and zero otherwise"
   ]
  },
  {
   "cell_type": "code",
   "execution_count": 7,
   "id": "22b50175-a5d9-4b61-b17a-ce730acc63b8",
   "metadata": {},
   "outputs": [
    {
     "data": {
      "text/html": [
       "<div>\n",
       "<style scoped>\n",
       "    .dataframe tbody tr th:only-of-type {\n",
       "        vertical-align: middle;\n",
       "    }\n",
       "\n",
       "    .dataframe tbody tr th {\n",
       "        vertical-align: top;\n",
       "    }\n",
       "\n",
       "    .dataframe thead th {\n",
       "        text-align: right;\n",
       "    }\n",
       "</style>\n",
       "<table border=\"1\" class=\"dataframe\">\n",
       "  <thead>\n",
       "    <tr style=\"text-align: right;\">\n",
       "      <th></th>\n",
       "      <th>count</th>\n",
       "      <th>mean</th>\n",
       "      <th>std</th>\n",
       "      <th>min</th>\n",
       "      <th>25%</th>\n",
       "      <th>50%</th>\n",
       "      <th>75%</th>\n",
       "      <th>max</th>\n",
       "    </tr>\n",
       "  </thead>\n",
       "  <tbody>\n",
       "    <tr>\n",
       "      <th>S</th>\n",
       "      <td>12,000.00</td>\n",
       "      <td>0.63</td>\n",
       "      <td>0.24</td>\n",
       "      <td>0.09</td>\n",
       "      <td>0.48</td>\n",
       "      <td>0.66</td>\n",
       "      <td>0.82</td>\n",
       "      <td>1.00</td>\n",
       "    </tr>\n",
       "    <tr>\n",
       "      <th>LPE</th>\n",
       "      <td>12,000.00</td>\n",
       "      <td>0.72</td>\n",
       "      <td>0.17</td>\n",
       "      <td>0.36</td>\n",
       "      <td>0.57</td>\n",
       "      <td>0.72</td>\n",
       "      <td>0.86</td>\n",
       "      <td>1.00</td>\n",
       "    </tr>\n",
       "    <tr>\n",
       "      <th>NP</th>\n",
       "      <td>12,000.00</td>\n",
       "      <td>3.80</td>\n",
       "      <td>1.16</td>\n",
       "      <td>2.00</td>\n",
       "      <td>3.00</td>\n",
       "      <td>4.00</td>\n",
       "      <td>5.00</td>\n",
       "      <td>7.00</td>\n",
       "    </tr>\n",
       "    <tr>\n",
       "      <th>ANH</th>\n",
       "      <td>12,000.00</td>\n",
       "      <td>200.44</td>\n",
       "      <td>48.74</td>\n",
       "      <td>96.00</td>\n",
       "      <td>157.00</td>\n",
       "      <td>199.50</td>\n",
       "      <td>243.00</td>\n",
       "      <td>310.00</td>\n",
       "    </tr>\n",
       "    <tr>\n",
       "      <th>TIC</th>\n",
       "      <td>12,000.00</td>\n",
       "      <td>3.23</td>\n",
       "      <td>1.06</td>\n",
       "      <td>2.00</td>\n",
       "      <td>2.00</td>\n",
       "      <td>3.00</td>\n",
       "      <td>4.00</td>\n",
       "      <td>6.00</td>\n",
       "    </tr>\n",
       "    <tr>\n",
       "      <th>Newborn</th>\n",
       "      <td>12,000.00</td>\n",
       "      <td>0.15</td>\n",
       "      <td>0.36</td>\n",
       "      <td>0.00</td>\n",
       "      <td>0.00</td>\n",
       "      <td>0.00</td>\n",
       "      <td>0.00</td>\n",
       "      <td>1.00</td>\n",
       "    </tr>\n",
       "    <tr>\n",
       "      <th>left</th>\n",
       "      <td>12,000.00</td>\n",
       "      <td>0.17</td>\n",
       "      <td>0.37</td>\n",
       "      <td>0.00</td>\n",
       "      <td>0.00</td>\n",
       "      <td>0.00</td>\n",
       "      <td>0.00</td>\n",
       "      <td>1.00</td>\n",
       "    </tr>\n",
       "  </tbody>\n",
       "</table>\n",
       "</div>"
      ],
      "text/plain": [
       "            count   mean   std   min    25%    50%    75%    max\n",
       "S       12,000.00   0.63  0.24  0.09   0.48   0.66   0.82   1.00\n",
       "LPE     12,000.00   0.72  0.17  0.36   0.57   0.72   0.86   1.00\n",
       "NP      12,000.00   3.80  1.16  2.00   3.00   4.00   5.00   7.00\n",
       "ANH     12,000.00 200.44 48.74 96.00 157.00 199.50 243.00 310.00\n",
       "TIC     12,000.00   3.23  1.06  2.00   2.00   3.00   4.00   6.00\n",
       "Newborn 12,000.00   0.15  0.36  0.00   0.00   0.00   0.00   1.00\n",
       "left    12,000.00   0.17  0.37  0.00   0.00   0.00   0.00   1.00"
      ]
     },
     "execution_count": 7,
     "metadata": {},
     "output_type": "execute_result"
    }
   ],
   "source": [
    "df.describe().T"
   ]
  },
  {
   "cell_type": "markdown",
   "id": "5114866e-65e9-4bdd-ad6c-ff04fd93c895",
   "metadata": {},
   "source": [
    "From the above table we can see that nearly 17% of our\n",
    "employees have left the company. We can also see that 15.4% of the employees had a newborn within the last 12 month and also that, on average, employees have been in the company for 3.2 years.\n",
    "\n",
    "In the next steps we are going to explore a bit more our data."
   ]
  },
  {
   "cell_type": "code",
   "execution_count": 12,
   "id": "ec5fd85c-64ac-400f-8ce9-81729bc6764a",
   "metadata": {},
   "outputs": [
    {
     "data": {
      "text/plain": [
       "left\n",
       "0   83.33\n",
       "1   16.67\n",
       "dtype: float64"
      ]
     },
     "execution_count": 12,
     "metadata": {},
     "output_type": "execute_result"
    }
   ],
   "source": [
    "# Look at the frequency of the left variable\n",
    "df.value_counts(subset='left', normalize=True)*100"
   ]
  },
  {
   "cell_type": "markdown",
   "id": "6a257209-d414-402b-a6cd-1f6fa7143f40",
   "metadata": {},
   "source": [
    "Here we see that 83% of the observations are employees who stayed in the company. While 17% of them are employees who left."
   ]
  },
  {
   "cell_type": "code",
   "execution_count": 13,
   "id": "d3fb55c0-7688-4cc9-b001-2c92fbcf4148",
   "metadata": {},
   "outputs": [
    {
     "data": {
      "text/html": [
       "<div>\n",
       "<style scoped>\n",
       "    .dataframe tbody tr th:only-of-type {\n",
       "        vertical-align: middle;\n",
       "    }\n",
       "\n",
       "    .dataframe tbody tr th {\n",
       "        vertical-align: top;\n",
       "    }\n",
       "\n",
       "    .dataframe thead th {\n",
       "        text-align: right;\n",
       "    }\n",
       "</style>\n",
       "<table border=\"1\" class=\"dataframe\">\n",
       "  <thead>\n",
       "    <tr style=\"text-align: right;\">\n",
       "      <th></th>\n",
       "      <th>S</th>\n",
       "      <th>LPE</th>\n",
       "      <th>NP</th>\n",
       "      <th>ANH</th>\n",
       "      <th>TIC</th>\n",
       "      <th>Newborn</th>\n",
       "      <th>left</th>\n",
       "    </tr>\n",
       "  </thead>\n",
       "  <tbody>\n",
       "    <tr>\n",
       "      <th>S</th>\n",
       "      <td>1.00</td>\n",
       "      <td>0.10</td>\n",
       "      <td>-0.13</td>\n",
       "      <td>-0.01</td>\n",
       "      <td>-0.22</td>\n",
       "      <td>0.04</td>\n",
       "      <td>-0.35</td>\n",
       "    </tr>\n",
       "    <tr>\n",
       "      <th>LPE</th>\n",
       "      <td>0.10</td>\n",
       "      <td>1.00</td>\n",
       "      <td>0.27</td>\n",
       "      <td>0.27</td>\n",
       "      <td>0.12</td>\n",
       "      <td>-0.01</td>\n",
       "      <td>0.01</td>\n",
       "    </tr>\n",
       "    <tr>\n",
       "      <th>NP</th>\n",
       "      <td>-0.13</td>\n",
       "      <td>0.27</td>\n",
       "      <td>1.00</td>\n",
       "      <td>0.33</td>\n",
       "      <td>0.25</td>\n",
       "      <td>-0.01</td>\n",
       "      <td>0.03</td>\n",
       "    </tr>\n",
       "    <tr>\n",
       "      <th>ANH</th>\n",
       "      <td>-0.01</td>\n",
       "      <td>0.27</td>\n",
       "      <td>0.33</td>\n",
       "      <td>1.00</td>\n",
       "      <td>0.13</td>\n",
       "      <td>-0.01</td>\n",
       "      <td>0.07</td>\n",
       "    </tr>\n",
       "    <tr>\n",
       "      <th>TIC</th>\n",
       "      <td>-0.22</td>\n",
       "      <td>0.12</td>\n",
       "      <td>0.25</td>\n",
       "      <td>0.13</td>\n",
       "      <td>1.00</td>\n",
       "      <td>-0.02</td>\n",
       "      <td>0.27</td>\n",
       "    </tr>\n",
       "    <tr>\n",
       "      <th>Newborn</th>\n",
       "      <td>0.04</td>\n",
       "      <td>-0.01</td>\n",
       "      <td>-0.01</td>\n",
       "      <td>-0.01</td>\n",
       "      <td>-0.02</td>\n",
       "      <td>1.00</td>\n",
       "      <td>-0.13</td>\n",
       "    </tr>\n",
       "    <tr>\n",
       "      <th>left</th>\n",
       "      <td>-0.35</td>\n",
       "      <td>0.01</td>\n",
       "      <td>0.03</td>\n",
       "      <td>0.07</td>\n",
       "      <td>0.27</td>\n",
       "      <td>-0.13</td>\n",
       "      <td>1.00</td>\n",
       "    </tr>\n",
       "  </tbody>\n",
       "</table>\n",
       "</div>"
      ],
      "text/plain": [
       "            S   LPE    NP   ANH   TIC  Newborn  left\n",
       "S        1.00  0.10 -0.13 -0.01 -0.22     0.04 -0.35\n",
       "LPE      0.10  1.00  0.27  0.27  0.12    -0.01  0.01\n",
       "NP      -0.13  0.27  1.00  0.33  0.25    -0.01  0.03\n",
       "ANH     -0.01  0.27  0.33  1.00  0.13    -0.01  0.07\n",
       "TIC     -0.22  0.12  0.25  0.13  1.00    -0.02  0.27\n",
       "Newborn  0.04 -0.01 -0.01 -0.01 -0.02     1.00 -0.13\n",
       "left    -0.35  0.01  0.03  0.07  0.27    -0.13  1.00"
      ]
     },
     "execution_count": 13,
     "metadata": {},
     "output_type": "execute_result"
    }
   ],
   "source": [
    "df.corr()"
   ]
  },
  {
   "cell_type": "markdown",
   "id": "7db5af84-049e-4deb-8c16-278036092415",
   "metadata": {},
   "source": [
    "Correlation only gives us information about the strength and the direction of the linear relationship between two variables. If we look at the correlation between the *left* variable and the others. We can see that satisfaction is\n",
    "negatively correlated with it. TIC is very moderately positively correlated with it.  \n",
    "\n",
    "Now, this does not tell us much about the nature of relationship and interactions among all the variables. That's why perform a logistic regression."
   ]
  },
  {
   "cell_type": "code",
   "execution_count": 17,
   "id": "851d234e-7b01-4f0c-ad77-5a5f80538799",
   "metadata": {},
   "outputs": [
    {
     "data": {
      "text/plain": [
       "'left~S+LPE+NP+ANH+TIC+Newborn'"
      ]
     },
     "execution_count": 17,
     "metadata": {},
     "output_type": "execute_result"
    }
   ],
   "source": [
    "# Estimate a linear regression model of Rating \n",
    "# as a function of everything else\n",
    "all_columns = \"+\".join(df.columns).replace('+left', '')\n",
    "my_formula = 'left~' + all_columns"
   ]
  },
  {
   "cell_type": "markdown",
   "id": "593c477c-dded-49af-bd1c-aa2d109b818d",
   "metadata": {},
   "source": [
    "To build a logistic regression model, we use the glm function. Our first argument is the outcome\n",
    "variable, for us it's left. You then insert a tilde followed by the variables you want to use to build your model. In our case, we'll use all the other variables. We then set the family argument\n",
    "equal to binomial (logit) and then the data argument equal to our dataset.\n",
    "\n",
    "The default link for the Binomial family is the logit link, I just wanted to show how to change it in case you want to play with other links as probit, cauchy, log, or cloglog "
   ]
  },
  {
   "cell_type": "code",
   "execution_count": 44,
   "id": "dfd49c41-6fe8-4277-87c1-3b9ad406fe35",
   "metadata": {},
   "outputs": [],
   "source": [
    "logreg = smf.glm(my_formula, family=families.Binomial(link=families.links.logit()), data=df).fit()"
   ]
  },
  {
   "cell_type": "markdown",
   "id": "038756b6-854d-4c02-afaf-f53fa0146987",
   "metadata": {},
   "source": [
    "Let's see the proportion of employees' attrition according to the model by building a histogram\n",
    "of the fitted values."
   ]
  },
  {
   "cell_type": "code",
   "execution_count": 46,
   "id": "c3a3ca7c-58a8-4aa0-a092-7c6e396f46b1",
   "metadata": {},
   "outputs": [
    {
     "data": {
      "text/plain": [
       "<AxesSubplot:>"
      ]
     },
     "execution_count": 46,
     "metadata": {},
     "output_type": "execute_result"
    },
    {
     "data": {
      "image/png": "[encoded data removed]",
      "text/plain": [
       "<Figure size 864x576 with 1 Axes>"
      ]
     },
     "metadata": {
      "needs_background": "light"
     },
     "output_type": "display_data"
    }
   ],
   "source": [
    "logreg.fittedvalues.hist()"
   ]
  },
  {
   "cell_type": "markdown",
   "id": "4ee7a16b-6c43-4a95-82f2-4d894548c863",
   "metadata": {},
   "source": [
    "The frequency is on the vertical axis while the fitted values, which are probabilities, are on the horizontal axis."
   ]
  },
  {
   "cell_type": "markdown",
   "id": "dfb773e0-d6a5-465a-9054-3edbde416ec0",
   "metadata": {},
   "source": [
    "Now let's assess how the model is performing. We can start by assessing the correlation between the estimated attrition by the model and the actual one:"
   ]
  },
  {
   "cell_type": "code",
   "execution_count": 47,
   "id": "6cfa8bbd-99d1-4d80-ba0d-6d3cc2b7ac79",
   "metadata": {},
   "outputs": [
    {
     "data": {
      "text/plain": [
       "0.4052016575818631"
      ]
     },
     "execution_count": 47,
     "metadata": {},
     "output_type": "execute_result"
    }
   ],
   "source": [
    "np.corrcoef(logreg.fittedvalues,df['left'])[0][1]"
   ]
  },
  {
   "cell_type": "markdown",
   "id": "5a8543a5-c6da-4639-831b-bc5436631160",
   "metadata": {},
   "source": [
    "Now, since the output of a logistic regression is a probability, that is a continuous variable that can take any value between zero and one. We need to set a value that tells us what we consider to be a leaver and what we consider a person who stays. This is called the cut off value."
   ]
  },
  {
   "cell_type": "code",
   "execution_count": 48,
   "id": "2fb77caf-48e8-4e8f-b6e6-72589bed9354",
   "metadata": {},
   "outputs": [],
   "source": [
    "# Cutoff to determine when P[leaving] should be considered as a leaver or not\n",
    "cutoff=.5"
   ]
  },
  {
   "cell_type": "markdown",
   "id": "38b516d9-d83c-48af-97fc-1e9e68c61cae",
   "metadata": {},
   "source": [
    "Let's build the confusion matrix:"
   ]
  },
  {
   "cell_type": "code",
   "execution_count": 55,
   "id": "625803b2-f7ff-4c76-9a74-8451c1c19d15",
   "metadata": {},
   "outputs": [
    {
     "data": {
      "text/html": [
       "<div>\n",
       "<style scoped>\n",
       "    .dataframe tbody tr th:only-of-type {\n",
       "        vertical-align: middle;\n",
       "    }\n",
       "\n",
       "    .dataframe tbody tr th {\n",
       "        vertical-align: top;\n",
       "    }\n",
       "\n",
       "    .dataframe thead th {\n",
       "        text-align: right;\n",
       "    }\n",
       "</style>\n",
       "<table border=\"1\" class=\"dataframe\">\n",
       "  <thead>\n",
       "    <tr style=\"text-align: right;\">\n",
       "      <th>left</th>\n",
       "      <th>0</th>\n",
       "      <th>1</th>\n",
       "    </tr>\n",
       "    <tr>\n",
       "      <th>row_0</th>\n",
       "      <th></th>\n",
       "      <th></th>\n",
       "    </tr>\n",
       "  </thead>\n",
       "  <tbody>\n",
       "    <tr>\n",
       "      <th>False</th>\n",
       "      <td>9464</td>\n",
       "      <td>1619</td>\n",
       "    </tr>\n",
       "    <tr>\n",
       "      <th>True</th>\n",
       "      <td>536</td>\n",
       "      <td>381</td>\n",
       "    </tr>\n",
       "  </tbody>\n",
       "</table>\n",
       "</div>"
      ],
      "text/plain": [
       "left      0     1\n",
       "row_0            \n",
       "False  9464  1619\n",
       "True    536   381"
      ]
     },
     "execution_count": 55,
     "metadata": {},
     "output_type": "execute_result"
    }
   ],
   "source": [
    "conf_mat = pd.crosstab(logreg.fittedvalues >= cutoff, df['left'])\n",
    "conf_mat"
   ]
  },
  {
   "cell_type": "markdown",
   "id": "525dd54a-e39b-4b5a-b549-4a3dbde02592",
   "metadata": {},
   "source": [
    "Now what we see in the above matrix is:\n",
    "* The left variable could be 0 or 1, where 0 means stayed and 1 left\n",
    "* The logreg.fittedvalues >= cutoff could be true or false, where True means left and false means stayed.\n",
    "* So we have 9464 employees who were predicted to stay and indeed stayed\n",
    "* while 536 employees were predicted by the model to leave but in reality stayed\n"
   ]
  },
  {
   "cell_type": "code",
   "execution_count": 63,
   "id": "d70134a1-5476-4f6c-83c6-7623198bb297",
   "metadata": {},
   "outputs": [
    {
     "data": {
      "text/plain": [
       "0.8204166666666667"
      ]
     },
     "execution_count": 63,
     "metadata": {},
     "output_type": "execute_result"
    }
   ],
   "source": [
    "# The overall percentage of correctly classified employees by a cutoff=.5:\n",
    "(conf_mat.iloc[0,0] +  conf_mat.iloc[1,1])/df.shape[0]"
   ]
  },
  {
   "cell_type": "code",
   "execution_count": 58,
   "id": "0f31784a-8fb3-4d8e-8931-69de0efb4c3e",
   "metadata": {},
   "outputs": [
    {
     "data": {
      "text/html": [
       "<table class=\"simpletable\">\n",
       "<caption>Generalized Linear Model Regression Results</caption>\n",
       "<tr>\n",
       "  <th>Dep. Variable:</th>         <td>left</td>       <th>  No. Observations:  </th>  <td> 12000</td> \n",
       "</tr>\n",
       "<tr>\n",
       "  <th>Model:</th>                  <td>GLM</td>       <th>  Df Residuals:      </th>  <td> 11993</td> \n",
       "</tr>\n",
       "<tr>\n",
       "  <th>Model Family:</th>        <td>Binomial</td>     <th>  Df Model:          </th>  <td>     6</td> \n",
       "</tr>\n",
       "<tr>\n",
       "  <th>Link Function:</th>         <td>logit</td>      <th>  Scale:             </th> <td>  1.0000</td>\n",
       "</tr>\n",
       "<tr>\n",
       "  <th>Method:</th>                <td>IRLS</td>       <th>  Log-Likelihood:    </th> <td> -4254.5</td>\n",
       "</tr>\n",
       "<tr>\n",
       "  <th>Date:</th>            <td>Sat, 01 May 2021</td> <th>  Deviance:          </th> <td>  8508.9</td>\n",
       "</tr>\n",
       "<tr>\n",
       "  <th>Time:</th>                <td>23:50:46</td>     <th>  Pearson chi2:      </th> <td>9.30e+03</td>\n",
       "</tr>\n",
       "<tr>\n",
       "  <th>No. Iterations:</th>          <td>6</td>        <th>                     </th>     <td> </td>   \n",
       "</tr>\n",
       "<tr>\n",
       "  <th>Covariance Type:</th>     <td>nonrobust</td>    <th>                     </th>     <td> </td>   \n",
       "</tr>\n",
       "</table>\n",
       "<table class=\"simpletable\">\n",
       "<tr>\n",
       "      <td></td>         <th>coef</th>     <th>std err</th>      <th>z</th>      <th>P>|z|</th>  <th>[0.025</th>    <th>0.975]</th>  \n",
       "</tr>\n",
       "<tr>\n",
       "  <th>Intercept</th> <td>   -1.2412</td> <td>    0.160</td> <td>   -7.751</td> <td> 0.000</td> <td>   -1.555</td> <td>   -0.927</td>\n",
       "</tr>\n",
       "<tr>\n",
       "  <th>S</th>         <td>   -3.8163</td> <td>    0.121</td> <td>  -31.607</td> <td> 0.000</td> <td>   -4.053</td> <td>   -3.580</td>\n",
       "</tr>\n",
       "<tr>\n",
       "  <th>LPE</th>       <td>    0.5044</td> <td>    0.181</td> <td>    2.788</td> <td> 0.005</td> <td>    0.150</td> <td>    0.859</td>\n",
       "</tr>\n",
       "<tr>\n",
       "  <th>NP</th>        <td>   -0.3592</td> <td>    0.026</td> <td>  -13.569</td> <td> 0.000</td> <td>   -0.411</td> <td>   -0.307</td>\n",
       "</tr>\n",
       "<tr>\n",
       "  <th>ANH</th>       <td>    0.0038</td> <td>    0.001</td> <td>    6.067</td> <td> 0.000</td> <td>    0.003</td> <td>    0.005</td>\n",
       "</tr>\n",
       "<tr>\n",
       "  <th>TIC</th>       <td>    0.6188</td> <td>    0.027</td> <td>   22.820</td> <td> 0.000</td> <td>    0.566</td> <td>    0.672</td>\n",
       "</tr>\n",
       "<tr>\n",
       "  <th>Newborn</th>   <td>   -1.4851</td> <td>    0.113</td> <td>  -13.157</td> <td> 0.000</td> <td>   -1.706</td> <td>   -1.264</td>\n",
       "</tr>\n",
       "</table>"
      ],
      "text/plain": [
       "<class 'statsmodels.iolib.summary.Summary'>\n",
       "\"\"\"\n",
       "                 Generalized Linear Model Regression Results                  \n",
       "==============================================================================\n",
       "Dep. Variable:                   left   No. Observations:                12000\n",
       "Model:                            GLM   Df Residuals:                    11993\n",
       "Model Family:                Binomial   Df Model:                            6\n",
       "Link Function:                  logit   Scale:                          1.0000\n",
       "Method:                          IRLS   Log-Likelihood:                -4254.5\n",
       "Date:                Sat, 01 May 2021   Deviance:                       8508.9\n",
       "Time:                        23:50:46   Pearson chi2:                 9.30e+03\n",
       "No. Iterations:                     6                                         \n",
       "Covariance Type:            nonrobust                                         \n",
       "==============================================================================\n",
       "                 coef    std err          z      P>|z|      [0.025      0.975]\n",
       "------------------------------------------------------------------------------\n",
       "Intercept     -1.2412      0.160     -7.751      0.000      -1.555      -0.927\n",
       "S             -3.8163      0.121    -31.607      0.000      -4.053      -3.580\n",
       "LPE            0.5044      0.181      2.788      0.005       0.150       0.859\n",
       "NP            -0.3592      0.026    -13.569      0.000      -0.411      -0.307\n",
       "ANH            0.0038      0.001      6.067      0.000       0.003       0.005\n",
       "TIC            0.6188      0.027     22.820      0.000       0.566       0.672\n",
       "Newborn       -1.4851      0.113    -13.157      0.000      -1.706      -1.264\n",
       "==============================================================================\n",
       "\"\"\""
      ]
     },
     "execution_count": 58,
     "metadata": {},
     "output_type": "execute_result"
    }
   ],
   "source": [
    "logreg.summary()"
   ]
  },
  {
   "cell_type": "code",
   "execution_count": 67,
   "id": "931ff58b-b8c2-4d6f-a63c-f60af8cbeb30",
   "metadata": {},
   "outputs": [
    {
     "data": {
      "text/plain": [
       "Intercept    -7.75\n",
       "S           -31.61\n",
       "LPE           2.79\n",
       "NP          -13.57\n",
       "ANH           6.07\n",
       "TIC          22.82\n",
       "Newborn     -13.16\n",
       "dtype: float64"
      ]
     },
     "execution_count": 67,
     "metadata": {},
     "output_type": "execute_result"
    }
   ],
   "source": [
    "# The greater the magnitude of T, the greater the evidence against the null hypothesis. \n",
    "# This means there is greater evidence that there is a significant difference\n",
    "# Let's print them\n",
    "logreg.tvalues"
   ]
  },
  {
   "cell_type": "code",
   "execution_count": 69,
   "id": "9d6af6be-5ea0-4b35-b7fa-7097f17d62a4",
   "metadata": {},
   "outputs": [
    {
     "data": {
      "text/plain": [
       "<matplotlib.collections.PathCollection at 0x7f8eedfa20d0>"
      ]
     },
     "execution_count": 69,
     "metadata": {},
     "output_type": "execute_result"
    },
    {
     "data": {
      "image/png": "[encoded data removed]",
      "text/plain": [
       "<Figure size 864x576 with 1 Axes>"
      ]
     },
     "metadata": {
      "needs_background": "light"
     },
     "output_type": "display_data"
    }
   ],
   "source": [
    "plt.scatter(df['TIC'], df['left'])\n",
    "plt.xlabel('Time Spent')\n",
    "plt.ylabel('Attrition')\n",
    "plt.title('Time and Employee Attrition')"
   ]
  },
  {
   "cell_type": "code",
   "execution_count": 72,
   "id": "0f840d95-ca0e-437f-a4e0-c385f575b33c",
   "metadata": {},
   "outputs": [
    {
     "data": {
      "text/html": [
       "<div>\n",
       "<style scoped>\n",
       "    .dataframe tbody tr th:only-of-type {\n",
       "        vertical-align: middle;\n",
       "    }\n",
       "\n",
       "    .dataframe tbody tr th {\n",
       "        vertical-align: top;\n",
       "    }\n",
       "\n",
       "    .dataframe thead th {\n",
       "        text-align: right;\n",
       "    }\n",
       "</style>\n",
       "<table border=\"1\" class=\"dataframe\">\n",
       "  <thead>\n",
       "    <tr style=\"text-align: right;\">\n",
       "      <th></th>\n",
       "      <th>left</th>\n",
       "    </tr>\n",
       "    <tr>\n",
       "      <th>TIC</th>\n",
       "      <th></th>\n",
       "    </tr>\n",
       "  </thead>\n",
       "  <tbody>\n",
       "    <tr>\n",
       "      <th>2</th>\n",
       "      <td>0.01</td>\n",
       "    </tr>\n",
       "    <tr>\n",
       "      <th>3</th>\n",
       "      <td>0.17</td>\n",
       "    </tr>\n",
       "    <tr>\n",
       "      <th>4</th>\n",
       "      <td>0.24</td>\n",
       "    </tr>\n",
       "    <tr>\n",
       "      <th>5</th>\n",
       "      <td>0.44</td>\n",
       "    </tr>\n",
       "    <tr>\n",
       "      <th>6</th>\n",
       "      <td>0.21</td>\n",
       "    </tr>\n",
       "  </tbody>\n",
       "</table>\n",
       "</div>"
      ],
      "text/plain": [
       "     left\n",
       "TIC      \n",
       "2    0.01\n",
       "3    0.17\n",
       "4    0.24\n",
       "5    0.44\n",
       "6    0.21"
      ]
     },
     "execution_count": 72,
     "metadata": {},
     "output_type": "execute_result"
    }
   ],
   "source": [
    "# Compute the average attrition rate for each value of TIC\n",
    "aggbTimeRank = df[['TIC','left']].groupby('TIC').mean()\n",
    "aggbTimeRank"
   ]
  },
  {
   "cell_type": "code",
   "execution_count": 78,
   "id": "2ce4193d-e052-43d1-b55b-cfa04289121c",
   "metadata": {},
   "outputs": [
    {
     "data": {
      "image/png": "[encoded data removed]",
      "text/plain": [
       "<Figure size 864x576 with 1 Axes>"
      ]
     },
     "metadata": {
      "needs_background": "light"
     },
     "output_type": "display_data"
    }
   ],
   "source": [
    "plt.scatter(aggbTimeRank.index, aggbTimeRank['left'])\n",
    "plt.xlabel('Time Spent')\n",
    "plt.ylabel('Attrition')\n",
    "plt.title('Time and Employee Attrition');"
   ]
  },
  {
   "cell_type": "markdown",
   "id": "3711141a-2b24-4868-89d9-c1a584f137cf",
   "metadata": {},
   "source": [
    "So here we find out that attrition increases with the years spent in the company up to year five,\n",
    "then, it decreases sharply. This is an interesting fact, so let's investigate further. We computed mean values, but we do not know how many employees each dot represents. So let's do that."
   ]
  },
  {
   "cell_type": "code",
   "execution_count": 96,
   "id": "e8ced31e-3e3b-497e-8b9e-e422c64cab87",
   "metadata": {},
   "outputs": [
    {
     "data": {
      "image/png": "[encoded data removed]",
      "text/plain": [
       "<Figure size 864x576 with 1 Axes>"
      ]
     },
     "metadata": {
      "needs_background": "light"
     },
     "output_type": "display_data"
    }
   ],
   "source": [
    "cntbTimeRank = df[['TIC','left']].groupby('TIC').count()\n",
    "ax = plt.scatter(x=aggbTimeRank.index, y=aggbTimeRank['left'],s=cntbTimeRank['left'], alpha=.6)\n",
    "plt.xlabel('Time Spent')\n",
    "plt.ylabel('Attrition')\n",
    "plt.title('Time and Employee Attrition');"
   ]
  },
  {
   "cell_type": "code",
   "execution_count": 97,
   "id": "7ff333b7-cd8f-4690-8948-4a5abed9592b",
   "metadata": {},
   "outputs": [],
   "source": [
    "tempdata = df.copy()"
   ]
  },
  {
   "cell_type": "code",
   "execution_count": 110,
   "id": "9006ec10-162f-4dfe-8d88-ede365765cc9",
   "metadata": {},
   "outputs": [],
   "source": [
    "# We create categories of employee satisfaction raning. We create 20 groups\n",
    "tempdata['rankSatis'] = round(tempdata['S'].rank(ascending=False)/600)"
   ]
  },
  {
   "cell_type": "code",
   "execution_count": 111,
   "id": "a4547c16-7c6c-4096-bcf9-4dfe284f0b2a",
   "metadata": {},
   "outputs": [
    {
     "data": {
      "image/png": "[encoded data removed]",
      "text/plain": [
       "<Figure size 864x576 with 1 Axes>"
      ]
     },
     "metadata": {
      "needs_background": "light"
     },
     "output_type": "display_data"
    }
   ],
   "source": [
    "aggbSatisRank = tempdata[['left', 'rankSatis']].groupby('rankSatis').mean()\n",
    "cntbSatisRank = tempdata[['left', 'rankSatis']].groupby('rankSatis').count()\n",
    "ax = plt.scatter(x=aggbSatisRank.index, y=aggbSatisRank['left'],s=cntbSatisRank['left'], alpha=.6)\n",
    "plt.xlabel('Rank of Satisfaction')\n",
    "plt.ylabel('Average Attrition Rate')\n",
    "plt.title('Satisfaction and Employee Attrition');"
   ]
  },
  {
   "cell_type": "code",
   "execution_count": null,
   "id": "f74cee4a-0556-4164-b340-16332494220c",
   "metadata": {},
   "outputs": [],
   "source": []
  }
 ],
 "metadata": {
  "kernelspec": {
   "display_name": "Python 3",
   "language": "python",
   "name": "python3"
  },
  "language_info": {
   "codemirror_mode": {
    "name": "ipython",
    "version": 3
   },
   "file_extension": ".py",
   "mimetype": "text/x-python",
   "name": "python",
   "nbconvert_exporter": "python",
   "pygments_lexer": "ipython3",
   "version": "3.9.4"
  }
 },
 "nbformat": 4,
 "nbformat_minor": 5
}
