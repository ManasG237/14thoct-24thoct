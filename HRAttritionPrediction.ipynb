{
 "cells": [
  {
   "cell_type": "code",
   "execution_count": 1,
   "id": "8caf0969-6d87-4111-a89e-d252c8a58d63",
   "metadata": {},
   "outputs": [],
   "source": [
    "import numpy as np\n",
    "import pandas as pd\n",
    "import matplotlib.pyplot as plt\n",
    "import statsmodels.formula.api as smf\n",
    "import statsmodels.api as sm\n",
    "from statsmodels.genmod import families"
   ]
  },
  {
   "cell_type": "code",
   "execution_count": 4,
   "id": "6b890e99-728d-4315-ab89-9a4930c18aac",
   "metadata": {},
   "outputs": [],
   "source": [
    "plt.rcParams[\"figure.figsize\"] = (12,8)\n",
    "plt.style.use('seaborn-notebook')"
   ]
  },
  {
   "cell_type": "code",
   "execution_count": 5,
   "id": "b6d8e4ef-a47d-40d4-9aa0-1ea70693389b",
   "metadata": {},
   "outputs": [],
   "source": [
    "df_old = pd.read_csv('../Datasets/DATA_3.02_HR2.csv')\n",
    "df = pd.read_csv('../Datasets/DATA_4.02_HR3.csv')"
   ]
  },
  {
   "cell_type": "code",
   "execution_count": 6,
   "id": "4f8dbe4b-f489-48be-89a1-5564114f73d2",
   "metadata": {},
   "outputs": [
    {
     "data": {
      "text/html": [
       "<div>\n",
       "<style scoped>\n",
       "    .dataframe tbody tr th:only-of-type {\n",
       "        vertical-align: middle;\n",
       "    }\n",
       "\n",
       "    .dataframe tbody tr th {\n",
       "        vertical-align: top;\n",
       "    }\n",
       "\n",
       "    .dataframe thead th {\n",
       "        text-align: right;\n",
       "    }\n",
       "</style>\n",
       "<table border=\"1\" class=\"dataframe\">\n",
       "  <thead>\n",
       "    <tr style=\"text-align: right;\">\n",
       "      <th></th>\n",
       "      <th>S</th>\n",
       "      <th>LPE</th>\n",
       "      <th>NP</th>\n",
       "      <th>ANH</th>\n",
       "      <th>TIC</th>\n",
       "      <th>Newborn</th>\n",
       "    </tr>\n",
       "  </thead>\n",
       "  <tbody>\n",
       "    <tr>\n",
       "      <th>0</th>\n",
       "      <td>0.86</td>\n",
       "      <td>0.69</td>\n",
       "      <td>4</td>\n",
       "      <td>105</td>\n",
       "      <td>4</td>\n",
       "      <td>1</td>\n",
       "    </tr>\n",
       "    <tr>\n",
       "      <th>1</th>\n",
       "      <td>0.52</td>\n",
       "      <td>0.98</td>\n",
       "      <td>4</td>\n",
       "      <td>209</td>\n",
       "      <td>2</td>\n",
       "      <td>0</td>\n",
       "    </tr>\n",
       "    <tr>\n",
       "      <th>2</th>\n",
       "      <td>0.84</td>\n",
       "      <td>0.60</td>\n",
       "      <td>5</td>\n",
       "      <td>207</td>\n",
       "      <td>2</td>\n",
       "      <td>0</td>\n",
       "    </tr>\n",
       "    <tr>\n",
       "      <th>3</th>\n",
       "      <td>0.60</td>\n",
       "      <td>0.65</td>\n",
       "      <td>3</td>\n",
       "      <td>143</td>\n",
       "      <td>2</td>\n",
       "      <td>1</td>\n",
       "    </tr>\n",
       "    <tr>\n",
       "      <th>4</th>\n",
       "      <td>0.85</td>\n",
       "      <td>0.57</td>\n",
       "      <td>3</td>\n",
       "      <td>227</td>\n",
       "      <td>2</td>\n",
       "      <td>0</td>\n",
       "    </tr>\n",
       "  </tbody>\n",
       "</table>\n",
       "</div>"
      ],
      "text/plain": [
       "      S   LPE  NP  ANH  TIC  Newborn\n",
       "0  0.86  0.69   4  105    4        1\n",
       "1  0.52  0.98   4  209    2        0\n",
       "2  0.84  0.60   5  207    2        0\n",
       "3  0.60  0.65   3  143    2        1\n",
       "4  0.85  0.57   3  227    2        0"
      ]
     },
     "execution_count": 6,
     "metadata": {},
     "output_type": "execute_result"
    }
   ],
   "source": [
    "df.head()"
   ]
  },
  {
   "cell_type": "code",
   "execution_count": 7,
   "id": "77df8e83-c8d3-474b-b5de-abe36a675355",
   "metadata": {},
   "outputs": [
    {
     "name": "stdout",
     "output_type": "stream",
     "text": [
      "<class 'pandas.core.frame.DataFrame'>\n",
      "RangeIndex: 1000 entries, 0 to 999\n",
      "Data columns (total 6 columns):\n",
      " #   Column   Non-Null Count  Dtype  \n",
      "---  ------   --------------  -----  \n",
      " 0   S        1000 non-null   float64\n",
      " 1   LPE      1000 non-null   float64\n",
      " 2   NP       1000 non-null   int64  \n",
      " 3   ANH      1000 non-null   int64  \n",
      " 4   TIC      1000 non-null   int64  \n",
      " 5   Newborn  1000 non-null   int64  \n",
      "dtypes: float64(2), int64(4)\n",
      "memory usage: 47.0 KB\n"
     ]
    }
   ],
   "source": [
    "df.info()"
   ]
  },
  {
   "cell_type": "code",
   "execution_count": 8,
   "id": "697247b5-f599-4593-8b78-0e2541705f75",
   "metadata": {},
   "outputs": [
    {
     "name": "stdout",
     "output_type": "stream",
     "text": [
      "<class 'pandas.core.frame.DataFrame'>\n",
      "RangeIndex: 12000 entries, 0 to 11999\n",
      "Data columns (total 7 columns):\n",
      " #   Column   Non-Null Count  Dtype  \n",
      "---  ------   --------------  -----  \n",
      " 0   S        12000 non-null  float64\n",
      " 1   LPE      12000 non-null  float64\n",
      " 2   NP       12000 non-null  int64  \n",
      " 3   ANH      12000 non-null  int64  \n",
      " 4   TIC      12000 non-null  int64  \n",
      " 5   Newborn  12000 non-null  int64  \n",
      " 6   left     12000 non-null  int64  \n",
      "dtypes: float64(2), int64(5)\n",
      "memory usage: 656.4 KB\n"
     ]
    }
   ],
   "source": [
    "df_old.info()"
   ]
  },
  {
   "cell_type": "code",
   "execution_count": 9,
   "id": "5bb0abfe-255e-451d-adae-4d2717f10f2e",
   "metadata": {},
   "outputs": [
    {
     "data": {
      "text/html": [
       "<div>\n",
       "<style scoped>\n",
       "    .dataframe tbody tr th:only-of-type {\n",
       "        vertical-align: middle;\n",
       "    }\n",
       "\n",
       "    .dataframe tbody tr th {\n",
       "        vertical-align: top;\n",
       "    }\n",
       "\n",
       "    .dataframe thead th {\n",
       "        text-align: right;\n",
       "    }\n",
       "</style>\n",
       "<table border=\"1\" class=\"dataframe\">\n",
       "  <thead>\n",
       "    <tr style=\"text-align: right;\">\n",
       "      <th></th>\n",
       "      <th>S</th>\n",
       "      <th>LPE</th>\n",
       "      <th>NP</th>\n",
       "      <th>ANH</th>\n",
       "      <th>TIC</th>\n",
       "      <th>Newborn</th>\n",
       "    </tr>\n",
       "  </thead>\n",
       "  <tbody>\n",
       "    <tr>\n",
       "      <th>count</th>\n",
       "      <td>1000.000000</td>\n",
       "      <td>1000.000000</td>\n",
       "      <td>1000.000000</td>\n",
       "      <td>1000.000000</td>\n",
       "      <td>1000.00000</td>\n",
       "      <td>1000.000000</td>\n",
       "    </tr>\n",
       "    <tr>\n",
       "      <th>mean</th>\n",
       "      <td>0.662640</td>\n",
       "      <td>0.719340</td>\n",
       "      <td>3.781000</td>\n",
       "      <td>200.166000</td>\n",
       "      <td>3.10300</td>\n",
       "      <td>0.197000</td>\n",
       "    </tr>\n",
       "    <tr>\n",
       "      <th>std</th>\n",
       "      <td>0.224228</td>\n",
       "      <td>0.164401</td>\n",
       "      <td>0.985906</td>\n",
       "      <td>46.054831</td>\n",
       "      <td>1.04474</td>\n",
       "      <td>0.397931</td>\n",
       "    </tr>\n",
       "    <tr>\n",
       "      <th>min</th>\n",
       "      <td>0.120000</td>\n",
       "      <td>0.360000</td>\n",
       "      <td>2.000000</td>\n",
       "      <td>96.000000</td>\n",
       "      <td>2.00000</td>\n",
       "      <td>0.000000</td>\n",
       "    </tr>\n",
       "    <tr>\n",
       "      <th>25%</th>\n",
       "      <td>0.530000</td>\n",
       "      <td>0.590000</td>\n",
       "      <td>3.000000</td>\n",
       "      <td>160.000000</td>\n",
       "      <td>2.00000</td>\n",
       "      <td>0.000000</td>\n",
       "    </tr>\n",
       "    <tr>\n",
       "      <th>50%</th>\n",
       "      <td>0.680000</td>\n",
       "      <td>0.720000</td>\n",
       "      <td>4.000000</td>\n",
       "      <td>201.000000</td>\n",
       "      <td>3.00000</td>\n",
       "      <td>0.000000</td>\n",
       "    </tr>\n",
       "    <tr>\n",
       "      <th>75%</th>\n",
       "      <td>0.850000</td>\n",
       "      <td>0.860000</td>\n",
       "      <td>4.000000</td>\n",
       "      <td>241.000000</td>\n",
       "      <td>4.00000</td>\n",
       "      <td>0.000000</td>\n",
       "    </tr>\n",
       "    <tr>\n",
       "      <th>max</th>\n",
       "      <td>1.000000</td>\n",
       "      <td>1.000000</td>\n",
       "      <td>6.000000</td>\n",
       "      <td>287.000000</td>\n",
       "      <td>6.00000</td>\n",
       "      <td>1.000000</td>\n",
       "    </tr>\n",
       "  </tbody>\n",
       "</table>\n",
       "</div>"
      ],
      "text/plain": [
       "                 S          LPE           NP          ANH         TIC  \\\n",
       "count  1000.000000  1000.000000  1000.000000  1000.000000  1000.00000   \n",
       "mean      0.662640     0.719340     3.781000   200.166000     3.10300   \n",
       "std       0.224228     0.164401     0.985906    46.054831     1.04474   \n",
       "min       0.120000     0.360000     2.000000    96.000000     2.00000   \n",
       "25%       0.530000     0.590000     3.000000   160.000000     2.00000   \n",
       "50%       0.680000     0.720000     4.000000   201.000000     3.00000   \n",
       "75%       0.850000     0.860000     4.000000   241.000000     4.00000   \n",
       "max       1.000000     1.000000     6.000000   287.000000     6.00000   \n",
       "\n",
       "           Newborn  \n",
       "count  1000.000000  \n",
       "mean      0.197000  \n",
       "std       0.397931  \n",
       "min       0.000000  \n",
       "25%       0.000000  \n",
       "50%       0.000000  \n",
       "75%       0.000000  \n",
       "max       1.000000  "
      ]
     },
     "execution_count": 9,
     "metadata": {},
     "output_type": "execute_result"
    }
   ],
   "source": [
    "df.describe()"
   ]
  },
  {
   "cell_type": "code",
   "execution_count": 10,
   "id": "3dba4aa2-809f-41c2-9e5d-659b1e9bdcfb",
   "metadata": {},
   "outputs": [],
   "source": [
    "# Estimate a linear regression model of Rating \n",
    "# as a function of everything else\n",
    "all_columns = \"+\".join(df_old.columns).replace('+left', '')\n",
    "my_formula = 'left~' + all_columns"
   ]
  },
  {
   "cell_type": "code",
   "execution_count": 11,
   "id": "2d0f651f-92f7-4f37-bea8-7c5db0899bc9",
   "metadata": {},
   "outputs": [],
   "source": [
    "# Estimate the drivers of attrition\n",
    "logreg = smf.glm(my_formula, family=families.Binomial(link=families.links.logit()), \n",
    "                 data=df_old).fit()"
   ]
  },
  {
   "cell_type": "code",
   "execution_count": 12,
   "id": "0a53df04-6292-418f-ae79-ec1b7527904e",
   "metadata": {},
   "outputs": [],
   "source": [
    "# Make predictions on the ou-of-sample data\n",
    "probaToLeave = logreg.predict(df)"
   ]
  },
  {
   "cell_type": "code",
   "execution_count": 21,
   "id": "569d8a42-08c5-496b-ad59-32c539cfc7b1",
   "metadata": {},
   "outputs": [],
   "source": [
    "predattrition = pd.DataFrame(probaToLeave, columns=['probaToLeave'])"
   ]
  },
  {
   "cell_type": "code",
   "execution_count": 22,
   "id": "9e7ec3b0-0dba-4e94-b185-bbea8135af10",
   "metadata": {},
   "outputs": [
    {
     "data": {
      "text/html": [
       "<div>\n",
       "<style scoped>\n",
       "    .dataframe tbody tr th:only-of-type {\n",
       "        vertical-align: middle;\n",
       "    }\n",
       "\n",
       "    .dataframe tbody tr th {\n",
       "        vertical-align: top;\n",
       "    }\n",
       "\n",
       "    .dataframe thead th {\n",
       "        text-align: right;\n",
       "    }\n",
       "</style>\n",
       "<table border=\"1\" class=\"dataframe\">\n",
       "  <thead>\n",
       "    <tr style=\"text-align: right;\">\n",
       "      <th></th>\n",
       "      <th>probaToLeave</th>\n",
       "    </tr>\n",
       "  </thead>\n",
       "  <tbody>\n",
       "    <tr>\n",
       "      <th>0</th>\n",
       "      <td>0.014420</td>\n",
       "    </tr>\n",
       "    <tr>\n",
       "      <th>1</th>\n",
       "      <td>0.105292</td>\n",
       "    </tr>\n",
       "    <tr>\n",
       "      <th>2</th>\n",
       "      <td>0.019466</td>\n",
       "    </tr>\n",
       "    <tr>\n",
       "      <th>3</th>\n",
       "      <td>0.018214</td>\n",
       "    </tr>\n",
       "    <tr>\n",
       "      <th>4</th>\n",
       "      <td>0.039977</td>\n",
       "    </tr>\n",
       "  </tbody>\n",
       "</table>\n",
       "</div>"
      ],
      "text/plain": [
       "   probaToLeave\n",
       "0      0.014420\n",
       "1      0.105292\n",
       "2      0.019466\n",
       "3      0.018214\n",
       "4      0.039977"
      ]
     },
     "execution_count": 22,
     "metadata": {},
     "output_type": "execute_result"
    }
   ],
   "source": [
    "predattrition.head()"
   ]
  },
  {
   "cell_type": "code",
   "execution_count": 23,
   "id": "a58bc492-a5af-45b7-a063-a8cd992e70ba",
   "metadata": {},
   "outputs": [],
   "source": [
    "# Add a column to the predattrition dataframe containing the performance\n",
    "predattrition['performance'] = df['LPE']"
   ]
  },
  {
   "cell_type": "code",
   "execution_count": 59,
   "id": "e58df722-e256-4e43-a8a7-2c38f6a5353e",
   "metadata": {},
   "outputs": [
    {
     "data": {
      "text/plain": [
       "Text(0.32, 0.445, 'Up or Out')"
      ]
     },
     "execution_count": 59,
     "metadata": {},
     "output_type": "execute_result"
    },
    {
     "data": {
      "image/png": "[encoded data removed]",
      "text/plain": [
       "<Figure size 576x396 with 1 Axes>"
      ]
     },
     "metadata": {
      "needs_background": "light"
     },
     "output_type": "display_data"
    }
   ],
   "source": [
    "plt.scatter(predattrition['probaToLeave'], \n",
    "            predattrition['performance'])\n",
    "plt.ylabel('Performance')\n",
    "plt.xlabel('Probability to Leave')\n",
    "plt.axvline(x=0.39,linewidth=2, color='r')\n",
    "plt.axhline(y=0.53, linewidth=2, color='r')\n",
    "plt.text(0.22, 0.74, \"As usual\", fontsize=16, color='r')\n",
    "plt.text(0.64, 0.74, \"To be retained\", fontsize=16, color='r')\n",
    "plt.text(.32, 0.445, \"Up or Out\", fontsize=16, color='r');"
   ]
  },
  {
   "cell_type": "code",
   "execution_count": 28,
   "id": "e8a921d5-0a5e-4ff8-8e68-e8e62d093bb2",
   "metadata": {},
   "outputs": [
    {
     "data": {
      "text/html": [
       "<div>\n",
       "<style scoped>\n",
       "    .dataframe tbody tr th:only-of-type {\n",
       "        vertical-align: middle;\n",
       "    }\n",
       "\n",
       "    .dataframe tbody tr th {\n",
       "        vertical-align: top;\n",
       "    }\n",
       "\n",
       "    .dataframe thead th {\n",
       "        text-align: right;\n",
       "    }\n",
       "</style>\n",
       "<table border=\"1\" class=\"dataframe\">\n",
       "  <thead>\n",
       "    <tr style=\"text-align: right;\">\n",
       "      <th></th>\n",
       "      <th>probaToLeave</th>\n",
       "      <th>performance</th>\n",
       "      <th>priority</th>\n",
       "    </tr>\n",
       "  </thead>\n",
       "  <tbody>\n",
       "    <tr>\n",
       "      <th>0</th>\n",
       "      <td>0.014420</td>\n",
       "      <td>0.69</td>\n",
       "      <td>0.009950</td>\n",
       "    </tr>\n",
       "    <tr>\n",
       "      <th>1</th>\n",
       "      <td>0.105292</td>\n",
       "      <td>0.98</td>\n",
       "      <td>0.103186</td>\n",
       "    </tr>\n",
       "    <tr>\n",
       "      <th>2</th>\n",
       "      <td>0.019466</td>\n",
       "      <td>0.60</td>\n",
       "      <td>0.011680</td>\n",
       "    </tr>\n",
       "    <tr>\n",
       "      <th>3</th>\n",
       "      <td>0.018214</td>\n",
       "      <td>0.65</td>\n",
       "      <td>0.011839</td>\n",
       "    </tr>\n",
       "    <tr>\n",
       "      <th>4</th>\n",
       "      <td>0.039977</td>\n",
       "      <td>0.57</td>\n",
       "      <td>0.022787</td>\n",
       "    </tr>\n",
       "  </tbody>\n",
       "</table>\n",
       "</div>"
      ],
      "text/plain": [
       "   probaToLeave  performance  priority\n",
       "0      0.014420         0.69  0.009950\n",
       "1      0.105292         0.98  0.103186\n",
       "2      0.019466         0.60  0.011680\n",
       "3      0.018214         0.65  0.011839\n",
       "4      0.039977         0.57  0.022787"
      ]
     },
     "execution_count": 28,
     "metadata": {},
     "output_type": "execute_result"
    }
   ],
   "source": [
    "predattrition['priority'] = predattrition['performance'] * predattrition['probaToLeave']\n",
    "predattrition.head()"
   ]
  },
  {
   "cell_type": "code",
   "execution_count": 31,
   "id": "2cfa2ab4-dba1-414c-b5e4-64fbc350af38",
   "metadata": {},
   "outputs": [
    {
     "data": {
      "text/html": [
       "<div>\n",
       "<style scoped>\n",
       "    .dataframe tbody tr th:only-of-type {\n",
       "        vertical-align: middle;\n",
       "    }\n",
       "\n",
       "    .dataframe tbody tr th {\n",
       "        vertical-align: top;\n",
       "    }\n",
       "\n",
       "    .dataframe thead th {\n",
       "        text-align: right;\n",
       "    }\n",
       "</style>\n",
       "<table border=\"1\" class=\"dataframe\">\n",
       "  <thead>\n",
       "    <tr style=\"text-align: right;\">\n",
       "      <th></th>\n",
       "      <th>probaToLeave</th>\n",
       "      <th>performance</th>\n",
       "      <th>priority</th>\n",
       "    </tr>\n",
       "  </thead>\n",
       "  <tbody>\n",
       "    <tr>\n",
       "      <th>927</th>\n",
       "      <td>0.878494</td>\n",
       "      <td>0.94</td>\n",
       "      <td>0.825785</td>\n",
       "    </tr>\n",
       "    <tr>\n",
       "      <th>587</th>\n",
       "      <td>0.891633</td>\n",
       "      <td>0.90</td>\n",
       "      <td>0.802470</td>\n",
       "    </tr>\n",
       "    <tr>\n",
       "      <th>476</th>\n",
       "      <td>0.888296</td>\n",
       "      <td>0.85</td>\n",
       "      <td>0.755051</td>\n",
       "    </tr>\n",
       "    <tr>\n",
       "      <th>683</th>\n",
       "      <td>0.771582</td>\n",
       "      <td>0.91</td>\n",
       "      <td>0.702140</td>\n",
       "    </tr>\n",
       "    <tr>\n",
       "      <th>234</th>\n",
       "      <td>0.843231</td>\n",
       "      <td>0.82</td>\n",
       "      <td>0.691449</td>\n",
       "    </tr>\n",
       "    <tr>\n",
       "      <th>731</th>\n",
       "      <td>0.742426</td>\n",
       "      <td>0.93</td>\n",
       "      <td>0.690456</td>\n",
       "    </tr>\n",
       "    <tr>\n",
       "      <th>302</th>\n",
       "      <td>0.824101</td>\n",
       "      <td>0.83</td>\n",
       "      <td>0.684004</td>\n",
       "    </tr>\n",
       "    <tr>\n",
       "      <th>623</th>\n",
       "      <td>0.759118</td>\n",
       "      <td>0.89</td>\n",
       "      <td>0.675615</td>\n",
       "    </tr>\n",
       "    <tr>\n",
       "      <th>470</th>\n",
       "      <td>0.740667</td>\n",
       "      <td>0.91</td>\n",
       "      <td>0.674007</td>\n",
       "    </tr>\n",
       "    <tr>\n",
       "      <th>304</th>\n",
       "      <td>0.811398</td>\n",
       "      <td>0.83</td>\n",
       "      <td>0.673460</td>\n",
       "    </tr>\n",
       "  </tbody>\n",
       "</table>\n",
       "</div>"
      ],
      "text/plain": [
       "     probaToLeave  performance  priority\n",
       "927      0.878494         0.94  0.825785\n",
       "587      0.891633         0.90  0.802470\n",
       "476      0.888296         0.85  0.755051\n",
       "683      0.771582         0.91  0.702140\n",
       "234      0.843231         0.82  0.691449\n",
       "731      0.742426         0.93  0.690456\n",
       "302      0.824101         0.83  0.684004\n",
       "623      0.759118         0.89  0.675615\n",
       "470      0.740667         0.91  0.674007\n",
       "304      0.811398         0.83  0.673460"
      ]
     },
     "execution_count": 31,
     "metadata": {},
     "output_type": "execute_result"
    }
   ],
   "source": [
    "orderpredattrition = predattrition.sort_values(by='priority', ascending=False)\n",
    "orderpredattrition.head(10)"
   ]
  },
  {
   "cell_type": "markdown",
   "id": "9bd305d6-7c74-4acd-b8c0-e1f2b5aaeb88",
   "metadata": {},
   "source": [
    "Now we see that the employee with the highest priority is ranked first, so based on our resources now we'll be able to decide which employees we want to target our efforts on in this order"
   ]
  },
  {
   "cell_type": "code",
   "execution_count": null,
   "id": "c739eab6-b997-43f7-9fde-1f02e38503e3",
   "metadata": {},
   "outputs": [],
   "source": []
  }
 ],
 "metadata": {
  "kernelspec": {
   "display_name": "Python 3",
   "language": "python",
   "name": "python3"
  },
  "language_info": {
   "codemirror_mode": {
    "name": "ipython",
    "version": 3
   },
   "file_extension": ".py",
   "mimetype": "text/x-python",
   "name": "python",
   "nbconvert_exporter": "python",
   "pygments_lexer": "ipython3",
   "version": "3.9.4"
  }
 },
 "nbformat": 4,
 "nbformat_minor": 5
}
